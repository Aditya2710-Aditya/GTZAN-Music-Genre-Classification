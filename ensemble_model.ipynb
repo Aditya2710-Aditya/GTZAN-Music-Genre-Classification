{
  "cells": [
    {
      "cell_type": "code",
      "execution_count": null,
      "metadata": {
        "id": "5rxM_ZesGBU4"
      },
      "outputs": [],
      "source": [
        "import os\n",
        "import pandas as pd\n",
        "import numpy as np\n",
        "import tensorflow as tf\n",
        "import joblib\n",
        "from tensorflow.keras import layers, models\n",
        "from tensorflow.keras.utils import to_categorical\n",
        "from sklearn.model_selection import train_test_split\n",
        "from sklearn.preprocessing import LabelEncoder, StandardScaler"
      ]
    },
    {
      "cell_type": "code",
      "execution_count": null,
      "metadata": {
        "colab": {
          "base_uri": "https://localhost:8080/"
        },
        "id": "kwqWuh1lFW4i",
        "outputId": "98254b88-2569-413e-fbb4-00f307cac687"
      },
      "outputs": [
        {
          "data": {
            "text/plain": [
              "['label_encoder.pkl']"
            ]
          },
          "execution_count": 2,
          "metadata": {},
          "output_type": "execute_result"
        }
      ],
      "source": [
        "# Define the path to the directory containing the spectrogram images\n",
        "spectrogram_dir = '/content/drive/MyDrive/music genre classification/Data/3_10sec_selected_spectrogram_images_1'\n",
        "# spectrogram_dir = '10_sec_spectrograms'\n",
        "\n",
        "# Define the model hyperparameters\n",
        "input_shape = (64, 64, 3)  # Adjust the dimensions as per your spectrogram size\n",
        "num_classes = len(os.listdir(spectrogram_dir))  # Assuming subdirectories represent genres\n",
        "\n",
        "\n",
        "# Load spectrogram images and labels\n",
        "spectrograms = []\n",
        "labels = []\n",
        "\n",
        "for genre_folder in os.listdir(spectrogram_dir):\n",
        "    genre_dir = os.path.join(spectrogram_dir, genre_folder)\n",
        "    for filename in os.listdir(genre_dir):\n",
        "        if filename.endswith('.png'):\n",
        "            filepath = os.path.join(genre_dir, filename)\n",
        "            spectrogram = tf.keras.preprocessing.image.load_img(filepath, target_size=(input_shape[0], input_shape[1]))\n",
        "            spectrogram = tf.keras.preprocessing.image.img_to_array(spectrogram)\n",
        "            spectrogram /= 255.0  # Normalize pixel values to [0, 1]\n",
        "            spectrograms.append(spectrogram)\n",
        "            labels.append(genre_folder)\n",
        "\n",
        "# Encode labels\n",
        "label_encoder = LabelEncoder()\n",
        "labels_encoded = label_encoder.fit_transform(labels)\n",
        "\n",
        "# Sort the data by labels\n",
        "sorting_indices = np.argsort(labels_encoded)\n",
        "spectrograms = np.array(spectrograms)[sorting_indices]\n",
        "labels_encoded = labels_encoded[sorting_indices]\n",
        "\n",
        "num_classes = len(label_encoder.classes_)\n",
        "labels_one_hot = to_categorical(labels_encoded, num_classes=num_classes)\n",
        "\n",
        "# Split the data into training and testing sets\n",
        "X_train_spectrogram, X_test_spectrogram, y_train_spectrogram, y_test_spectrogram = train_test_split(spectrograms, labels_one_hot, test_size=0.2, random_state=42)\n",
        "\n",
        "joblib.dump(label_encoder, 'label_encoder.pkl')"
      ]
    },
    {
      "cell_type": "code",
      "execution_count": null,
      "metadata": {
        "colab": {
          "base_uri": "https://localhost:8080/"
        },
        "id": "A6Yh6kwoGGly",
        "outputId": "de96695e-228c-4313-f00a-7c9401404c19"
      },
      "outputs": [
        {
          "data": {
            "text/plain": [
              "['scaler.pkl']"
            ]
          },
          "execution_count": 3,
          "metadata": {},
          "output_type": "execute_result"
        }
      ],
      "source": [
        "data = pd.read_csv('gtzan_features_with_augmentation_10sec_segments.csv')\n",
        "\n",
        "X = data.drop(['filename', 'label'], axis=1)\n",
        "y = data['label']\n",
        "X = X.values\n",
        "y = y.values\n",
        "\n",
        "from tensorflow.keras.utils import to_categorical\n",
        "from sklearn.preprocessing import LabelEncoder\n",
        "\n",
        "label_encoder=LabelEncoder()\n",
        "y=to_categorical(label_encoder.fit_transform(y))\n",
        "\n",
        "\n",
        "X_train_feature, X_test_feature, y_train_feature, y_test_feature = train_test_split(X, y, test_size=0.2, random_state=42)\n",
        "\n",
        "# Standardize the feature data\n",
        "scaler = StandardScaler()\n",
        "X_train_feature = scaler.fit_transform(X_train_feature)\n",
        "X_test_feature = scaler.transform(X_test_feature)\n",
        "\n",
        "joblib.dump(scaler, 'scaler.pkl')"
      ]
    },
    {
      "cell_type": "code",
      "execution_count": null,
      "metadata": {
        "colab": {
          "base_uri": "https://localhost:8080/"
        },
        "id": "piPl4WVcGJ-G",
        "outputId": "e076fa1c-57fb-4c55-e0ff-ef61cbe535be"
      },
      "outputs": [
        {
          "data": {
            "text/plain": [
              "(9571, 10)"
            ]
          },
          "execution_count": 4,
          "metadata": {},
          "output_type": "execute_result"
        }
      ],
      "source": [
        "y_train_feature.shape"
      ]
    },
    {
      "cell_type": "code",
      "execution_count": null,
      "metadata": {
        "colab": {
          "base_uri": "https://localhost:8080/"
        },
        "id": "5JkAYLTwGMoc",
        "outputId": "624dba58-b7ba-403d-b393-38edf985eecb"
      },
      "outputs": [
        {
          "data": {
            "text/plain": [
              "(9571, 10)"
            ]
          },
          "execution_count": 5,
          "metadata": {},
          "output_type": "execute_result"
        }
      ],
      "source": [
        "y_train_spectrogram.shape"
      ]
    },
    {
      "cell_type": "code",
      "execution_count": null,
      "metadata": {
        "colab": {
          "base_uri": "https://localhost:8080/"
        },
        "id": "Vdoc0EKCGP5L",
        "outputId": "afd698af-64c3-47a0-da84-e39d2a6f0072"
      },
      "outputs": [
        {
          "data": {
            "text/plain": [
              "array([[0., 0., 0., ..., 1., 0., 0.],\n",
              "       [0., 0., 0., ..., 0., 0., 1.],\n",
              "       [1., 0., 0., ..., 0., 0., 0.],\n",
              "       ...,\n",
              "       [0., 0., 0., ..., 1., 0., 0.],\n",
              "       [0., 0., 1., ..., 0., 0., 0.],\n",
              "       [0., 0., 0., ..., 0., 0., 0.]], dtype=float32)"
            ]
          },
          "execution_count": 6,
          "metadata": {},
          "output_type": "execute_result"
        }
      ],
      "source": [
        "y_test_feature"
      ]
    },
    {
      "cell_type": "code",
      "execution_count": null,
      "metadata": {
        "colab": {
          "base_uri": "https://localhost:8080/"
        },
        "id": "1tr9bKsJGSVg",
        "outputId": "9b42442f-00f2-416d-f86d-b4b05872ff94"
      },
      "outputs": [
        {
          "data": {
            "text/plain": [
              "array([[0., 0., 0., ..., 1., 0., 0.],\n",
              "       [0., 0., 0., ..., 0., 0., 1.],\n",
              "       [1., 0., 0., ..., 0., 0., 0.],\n",
              "       ...,\n",
              "       [0., 0., 0., ..., 1., 0., 0.],\n",
              "       [0., 0., 1., ..., 0., 0., 0.],\n",
              "       [0., 0., 0., ..., 0., 0., 0.]], dtype=float32)"
            ]
          },
          "execution_count": 7,
          "metadata": {},
          "output_type": "execute_result"
        }
      ],
      "source": [
        "y_test_spectrogram"
      ]
    },
    {
      "cell_type": "code",
      "execution_count": null,
      "metadata": {
        "colab": {
          "base_uri": "https://localhost:8080/"
        },
        "id": "6J2ZYvK8GaMp",
        "outputId": "4cb8d415-9cee-4b98-e1fc-07525b2af8c4"
      },
      "outputs": [
        {
          "name": "stdout",
          "output_type": "stream",
          "text": [
            "75/75 [==============================] - 0s 4ms/step\n",
            "75/75 [==============================] - 1s 10ms/step\n",
            "75/75 [==============================] - 11s 140ms/step\n",
            "75/75 [==============================] - 7s 87ms/step\n",
            "75/75 [==============================] - 9s 82ms/step\n",
            "Epoch 1/10\n",
            "59/60 [============================>.] - ETA: 0s - loss: 0.4688 - accuracy: 0.9523\n",
            "Epoch 1: val_accuracy improved from -inf to 0.97077, saving model to ensemble_averaging_model.h5\n",
            "60/60 [==============================] - 2s 23ms/step - loss: 0.4631 - accuracy: 0.9525 - val_loss: 0.0654 - val_accuracy: 0.9708\n",
            "Epoch 2/10\n",
            "60/60 [==============================] - ETA: 0s - loss: 0.0718 - accuracy: 0.9817\n",
            "Epoch 2: val_accuracy improved from 0.97077 to 0.97704, saving model to ensemble_averaging_model.h5\n",
            "60/60 [==============================] - 1s 17ms/step - loss: 0.0718 - accuracy: 0.9817 - val_loss: 0.0644 - val_accuracy: 0.9770\n",
            "Epoch 3/10\n",
            "60/60 [==============================] - ETA: 0s - loss: 0.0623 - accuracy: 0.9843\n",
            "Epoch 3: val_accuracy did not improve from 0.97704\n",
            "60/60 [==============================] - 1s 16ms/step - loss: 0.0623 - accuracy: 0.9843 - val_loss: 0.0977 - val_accuracy: 0.9770\n",
            "Epoch 4/10\n",
            "58/60 [============================>.] - ETA: 0s - loss: 0.0641 - accuracy: 0.9828\n",
            "Epoch 4: val_accuracy did not improve from 0.97704\n",
            "60/60 [==============================] - 1s 18ms/step - loss: 0.0625 - accuracy: 0.9833 - val_loss: 0.0685 - val_accuracy: 0.9770\n",
            "Epoch 5/10\n",
            "58/60 [============================>.] - ETA: 0s - loss: 0.0588 - accuracy: 0.9838\n",
            "Epoch 5: val_accuracy did not improve from 0.97704\n",
            "60/60 [==============================] - 2s 26ms/step - loss: 0.0604 - accuracy: 0.9838 - val_loss: 0.0915 - val_accuracy: 0.9666\n",
            "Epoch 6/10\n",
            "60/60 [==============================] - ETA: 0s - loss: 0.0572 - accuracy: 0.9796\n",
            "Epoch 6: val_accuracy did not improve from 0.97704\n",
            "60/60 [==============================] - 2s 27ms/step - loss: 0.0572 - accuracy: 0.9796 - val_loss: 0.0580 - val_accuracy: 0.9749\n",
            "Epoch 7/10\n",
            "59/60 [============================>.] - ETA: 0s - loss: 0.0483 - accuracy: 0.9857\n",
            "Epoch 7: val_accuracy did not improve from 0.97704\n",
            "60/60 [==============================] - 2s 27ms/step - loss: 0.0476 - accuracy: 0.9859 - val_loss: 0.0533 - val_accuracy: 0.9749\n",
            "Epoch 8/10\n",
            "60/60 [==============================] - ETA: 0s - loss: 0.0453 - accuracy: 0.9869\n",
            "Epoch 8: val_accuracy did not improve from 0.97704\n",
            "60/60 [==============================] - 2s 30ms/step - loss: 0.0453 - accuracy: 0.9869 - val_loss: 0.0685 - val_accuracy: 0.9770\n",
            "Epoch 9/10\n",
            "60/60 [==============================] - ETA: 0s - loss: 0.0511 - accuracy: 0.9838\n",
            "Epoch 9: val_accuracy did not improve from 0.97704\n",
            "60/60 [==============================] - 2s 27ms/step - loss: 0.0511 - accuracy: 0.9838 - val_loss: 0.0590 - val_accuracy: 0.9770\n",
            "Epoch 10/10\n",
            "60/60 [==============================] - ETA: 0s - loss: 0.0488 - accuracy: 0.9843\n",
            "Epoch 10: val_accuracy improved from 0.97704 to 0.98539, saving model to ensemble_averaging_model.h5\n",
            "60/60 [==============================] - 1s 23ms/step - loss: 0.0488 - accuracy: 0.9843 - val_loss: 0.0436 - val_accuracy: 0.9854\n"
          ]
        }
      ],
      "source": [
        "from tensorflow.keras.models import Sequential\n",
        "from tensorflow.keras.layers import Dense, Dropout\n",
        "from tensorflow.keras.callbacks import ModelCheckpoint\n",
        "from tensorflow.keras.models import load_model\n",
        "\n",
        "# Get predictions from the base models on the validation set\n",
        "feature_model1 = load_model('ann_feature_10sec_model.h5')  # Replace with the actual path to your model\n",
        "feature_model2 = load_model('cnn_feature_10sec_model.h5')  # Replace with the actual path to your model\n",
        "\n",
        "spectrogram_model1 = load_model('CNN_spectrogram_10sec_model.h5')  # Replace with the actual path to your model\n",
        "spectrogram_model2 = load_model('GRU_spectrogram_10sec_model.h5')  # Replace with the actual path to your model\n",
        "spectrogram_model3 = load_model('LSTM_spectrogram_10sec_model.h5')\n",
        "\n",
        "\n",
        "feature_model1_prediction = feature_model1.predict(X_test_feature)\n",
        "feature_model2_prediction = feature_model2.predict(X_test_feature)\n",
        "spectrogram_model1_prediction = spectrogram_model1.predict(X_test_spectrogram)\n",
        "spectrogram_model2_prediction = spectrogram_model2.predict(X_test_spectrogram)\n",
        "spectrogram_model3_prediction = spectrogram_model3.predict(X_test_spectrogram)\n",
        "\n",
        "# Concatenate the predictions as input features for the meta-model\n",
        "X_meta_train = (feature_model1_prediction + feature_model2_prediction + spectrogram_model1_prediction + spectrogram_model2_prediction + spectrogram_model3_prediction) / 5.0\n",
        "\n",
        "\n",
        "\n",
        "# Define the meta-model architecture\n",
        "meta_model = models.Sequential()\n",
        "meta_model.add(layers.Dense(1024, activation='relu', input_shape=(X_meta_train.shape[1],)))\n",
        "meta_model.add(layers.Dropout(0.2))\n",
        "\n",
        "meta_model.add(layers.Dense(512, activation='relu'))\n",
        "meta_model.add(layers.Dropout(0.2))\n",
        "\n",
        "meta_model.add(layers.Dense(256, activation='relu'))\n",
        "meta_model.add(layers.Dropout(0.2))\n",
        "meta_model.add(layers.Dense(10, activation='softmax'))\n",
        "\n",
        "meta_model.compile(optimizer='adam', loss='categorical_crossentropy', metrics=['accuracy'])\n",
        "\n",
        "# Train the meta-model on the combined predictions\n",
        "model_checkpoint = ModelCheckpoint('ensemble_averaging_model.h5', save_best_only=True, monitor='val_accuracy', mode='max', verbose=1)\n",
        "history = meta_model.fit(X_meta_train, y_test_spectrogram, epochs=10, batch_size=32, validation_split=0.2, callbacks=[model_checkpoint])\n"
      ]
    },
    {
      "cell_type": "code",
      "execution_count": null,
      "metadata": {
        "colab": {
          "base_uri": "https://localhost:8080/"
        },
        "id": "ZxgVEbh6JDad",
        "outputId": "86ef467f-c001-4f4e-c878-17a188b21a98"
      },
      "outputs": [
        {
          "name": "stdout",
          "output_type": "stream",
          "text": [
            "\n",
            "Evaluation Results:\n",
            "\n",
            "Feature Model 1:\n",
            "Accuracy: 93.48%, Loss: 0.2450\n",
            "\n",
            "Feature Model 2:\n",
            "Accuracy: 91.10%, Loss: 0.3401\n",
            "\n",
            "Spectrogram Model 1:\n",
            "Accuracy: 91.56%, Loss: 0.2710\n",
            "\n",
            "Spectrogram Model 2:\n",
            "Accuracy: 90.18%, Loss: 0.3335\n",
            "\n",
            "Spectrogram Model 3:\n",
            "Accuracy: 89.76%, Loss: 0.3270\n",
            "\n",
            "Ensemble Model:\n",
            "Accuracy: 98.87%, Loss: 0.0398\n"
          ]
        }
      ],
      "source": [
        "# Evaluate the models on the test data\n",
        "feature_model1_loss, feature_model1_acc = feature_model1.evaluate(X_test_feature, y_test_feature, verbose=0)\n",
        "feature_model2_loss, feature_model2_acc = feature_model2.evaluate(X_test_feature, y_test_feature, verbose=0)\n",
        "spectrogram_model1_loss, spectrogram_model1_acc = spectrogram_model1.evaluate(X_test_spectrogram, y_test_spectrogram, verbose=0)\n",
        "spectrogram_model2_loss, spectrogram_model2_acc = spectrogram_model2.evaluate(X_test_spectrogram, y_test_spectrogram, verbose=0)\n",
        "spectrogram_model3_loss, spectrogram_model3_acc = spectrogram_model3.evaluate(X_test_spectrogram, y_test_spectrogram, verbose=0)\n",
        "ensemble_model_loss, ensemble_model_acc = meta_model.evaluate(X_meta_train, y_test_spectrogram, verbose=0)\n",
        "\n",
        "# Print the evaluation results for each model\n",
        "print(\"\\nEvaluation Results:\")\n",
        "\n",
        "# Feature Model 1\n",
        "print(\"\\nFeature Model 1:\")\n",
        "print(f\"Accuracy: {feature_model1_acc * 100:.2f}%, Loss: {feature_model1_loss:.4f}\")\n",
        "\n",
        "# Feature Model 2\n",
        "print(\"\\nFeature Model 2:\")\n",
        "print(f\"Accuracy: {feature_model2_acc * 100:.2f}%, Loss: {feature_model2_loss:.4f}\")\n",
        "\n",
        "# Spectrogram Model 1\n",
        "print(\"\\nSpectrogram Model 1:\")\n",
        "print(f\"Accuracy: {spectrogram_model1_acc * 100:.2f}%, Loss: {spectrogram_model1_loss:.4f}\")\n",
        "\n",
        "# Spectrogram Model 2\n",
        "print(\"\\nSpectrogram Model 2:\")\n",
        "print(f\"Accuracy: {spectrogram_model2_acc * 100:.2f}%, Loss: {spectrogram_model2_loss:.4f}\")\n",
        "\n",
        "# Spectrogram Model 3\n",
        "print(\"\\nSpectrogram Model 3:\")\n",
        "print(f\"Accuracy: {spectrogram_model3_acc * 100:.2f}%, Loss: {spectrogram_model3_loss:.4f}\")\n",
        "\n",
        "# Ensemble Model\n",
        "print(\"\\nEnsemble Model:\")\n",
        "print(f\"Accuracy: {ensemble_model_acc * 100:.2f}%, Loss: {ensemble_model_loss:.4f}\")\n"
      ]
    },
    {
      "cell_type": "code",
      "execution_count": null,
      "metadata": {
        "id": "IkEOFx89MQJu"
      },
      "outputs": [],
      "source": [
        "# import os\n",
        "# import tempfile\n",
        "# import numpy as np\n",
        "# import matplotlib.pyplot as plt\n",
        "# import librosa\n",
        "# import librosa.display\n",
        "# import tensorflow as tf\n",
        "# from tensorflow.keras.models import load_model\n",
        "# import joblib\n",
        "# from collections import Counter\n",
        "# tf.keras.utils.disable_interactive_logging()\n",
        "\n",
        "# from collections import Counter\n",
        "\n",
        "# def test_music_genre(audio_file):\n",
        "#     # Define the function to extract features from audio\n",
        "#     def extract_features_segment(audio_data, sr):\n",
        "#         chroma_stft_mean = np.mean(librosa.feature.chroma_stft(y=audio_data, sr=sr))\n",
        "#         chroma_stft_var = np.var(librosa.feature.chroma_stft(y=audio_data, sr=sr))\n",
        "#         rms_mean = np.mean(librosa.feature.rms(y=audio_data))\n",
        "#         rms_var = np.var(librosa.feature.rms(y=audio_data))\n",
        "#         spectral_centroid_mean = np.mean(librosa.feature.spectral_centroid(y=audio_data, sr=sr))\n",
        "#         spectral_centroid_var = np.var(librosa.feature.spectral_centroid(y=audio_data, sr=sr))\n",
        "#         spectral_bandwidth_mean = np.mean(librosa.feature.spectral_bandwidth(y=audio_data, sr=sr))\n",
        "#         spectral_bandwidth_var = np.var(librosa.feature.spectral_bandwidth(y=audio_data, sr=sr))\n",
        "#         rolloff_mean = np.mean(librosa.feature.spectral_rolloff(y=audio_data, sr=sr))\n",
        "#         rolloff_var = np.var(librosa.feature.spectral_rolloff(y=audio_data, sr=sr))\n",
        "#         zero_crossing_rate_mean = np.mean(librosa.feature.zero_crossing_rate(audio_data))\n",
        "#         zero_crossing_rate_var = np.var(librosa.feature.zero_crossing_rate(audio_data))\n",
        "#         harmony_mean = np.mean(librosa.effects.harmonic(y=audio_data))\n",
        "#         harmony_var = np.var(librosa.effects.harmonic(y=audio_data))\n",
        "#         perceptr_mean = np.mean(librosa.effects.percussive(y=audio_data))\n",
        "#         perceptr_var = np.var(librosa.effects.percussive(y=audio_data))\n",
        "#         tempo, _ = librosa.beat.beat_track(y=audio_data, sr=sr)\n",
        "#         mfccs = librosa.feature.mfcc(y=audio_data, sr=sr, n_mfcc=20)\n",
        "#         mfcc_means = np.mean(mfccs, axis=1)\n",
        "#         mfcc_vars = np.var(mfccs, axis=1)\n",
        "\n",
        "#         # Combine the extracted features into a single array\n",
        "#         return [chroma_stft_mean, chroma_stft_var, rms_mean, rms_var, spectral_centroid_mean,\n",
        "#                 spectral_centroid_var, spectral_bandwidth_mean, spectral_bandwidth_var, rolloff_mean,\n",
        "#                 rolloff_var, zero_crossing_rate_mean, zero_crossing_rate_var, harmony_mean, harmony_var,\n",
        "#                 perceptr_mean, perceptr_var, tempo] + list(mfcc_means) + list(mfcc_vars)\n",
        "\n",
        "#     # Define the function to create spectrogram from audio\n",
        "#     def create_spectrogram(audio_data, sr, temp_dir, input_shape):\n",
        "#         plt.figure(figsize=(3, 3))\n",
        "#         D = librosa.amplitude_to_db(np.abs(librosa.stft(audio_data)), ref=np.max)\n",
        "#         librosa.display.specshow(D, sr=sr, x_axis='time', y_axis='log', cmap='viridis')\n",
        "#         plt.axis('off')\n",
        "\n",
        "#         # Use the provided temporary directory\n",
        "#         spectrogram_filename = os.path.join(temp_dir, 'spectrogram.png')\n",
        "#         plt.savefig(spectrogram_filename, bbox_inches='tight', pad_inches=0, transparent=True)\n",
        "#         plt.close()\n",
        "\n",
        "#         return spectrogram_filename\n",
        "\n",
        "#     # Load the saved models\n",
        "#     feature_model1 = load_model('ann_feature_10sec_model.h5')  # Replace with the actual path to your model\n",
        "#     feature_model2 = load_model('cnn_feature_10sec_model.h5')  # Replace with the actual path to your model\n",
        "\n",
        "#     spectrogram_model1 = load_model('CNN_spectrogram_10sec_model.h5')  # Replace with the actual path to your model\n",
        "#     spectrogram_model2 = load_model('GRU_spectrogram_10sec_model.h5')  # Replace with the actual path to your model\n",
        "#     spectrogram_model3 = load_model('LSTM_spectrogram_10sec_model.h5')\n",
        "\n",
        "#     # Load the scaler and label encoder for feature-based models\n",
        "#     scaler = joblib.load('scaler.pkl')\n",
        "#     label_encoder = joblib.load('label_encoder.pkl')\n",
        "\n",
        "#     # Define a function to preprocess input for feature-based models\n",
        "#     def preprocess_features(audio_data, sr):\n",
        "#         features = extract_features_segment(audio_data, sr)\n",
        "#         features_scaled = scaler.transform(np.array([features]))\n",
        "#         return features_scaled\n",
        "\n",
        "#     # Define a function to preprocess input for spectrogram-based models\n",
        "#     def preprocess_spectrogram(audio_data, sr):\n",
        "#         input_shape = (64, 64, 3)  # Assuming input shape for spectrogram models\n",
        "#         with tempfile.TemporaryDirectory() as temp_dir:\n",
        "#             spectrogram_filename = create_spectrogram(audio_data, sr, temp_dir, input_shape)\n",
        "#             spectrogram = tf.keras.preprocessing.image.load_img(spectrogram_filename, target_size=(input_shape[0], input_shape[1]))\n",
        "#             spectrogram = tf.keras.preprocessing.image.img_to_array(spectrogram)\n",
        "#             spectrogram /= 255.0  # Normalize pixel values to [0, 1]\n",
        "#             spectrogram = np.expand_dims(spectrogram, axis=0)\n",
        "#         return spectrogram\n",
        "\n",
        "\n",
        "#     # Load the audio file\n",
        "#     audio_data, sr = librosa.load(audio_file)\n",
        "\n",
        "#     # Define segment duration (10 seconds)\n",
        "#     segment_duration = 10 * sr\n",
        "\n",
        "#     # Calculate the number of segments\n",
        "#     num_segments = len(audio_data) // segment_duration\n",
        "\n",
        "#     # Define lists to store predictions for each model\n",
        "#     feature_model1_predictions = []\n",
        "#     feature_model2_predictions = []\n",
        "#     spectrogram_model1_predictions = []\n",
        "#     spectrogram_model2_predictions = []\n",
        "#     spectrogram_model3_predictions = []\n",
        "#     ensemble_predictions = []\n",
        "\n",
        "#     # Iterate over each segment\n",
        "#     for segment_index in range(num_segments):\n",
        "#         start_sample = segment_index * segment_duration\n",
        "#         end_sample = (segment_index + 1) * segment_duration\n",
        "#         segment_audio = audio_data[start_sample:end_sample]\n",
        "\n",
        "#         # Predictions for each individual model\n",
        "#         features_input = preprocess_features(segment_audio, sr)\n",
        "#         spectrogram_input = preprocess_spectrogram(segment_audio, sr)\n",
        "\n",
        "#         feature_model1_prediction = feature_model1.predict(features_input.reshape(1, features_input.shape[1],))\n",
        "#         feature_model2_prediction = feature_model2.predict(features_input.reshape(1, features_input.shape[1],1))\n",
        "#         spectrogram_model1_prediction = spectrogram_model1.predict(spectrogram_input)\n",
        "#         spectrogram_model2_prediction = spectrogram_model2.predict(spectrogram_input)\n",
        "#         spectrogram_model3_prediction = spectrogram_model3.predict(spectrogram_input)\n",
        "\n",
        "#         # Append predictions to respective lists\n",
        "#         feature_model1_predictions.append(label_encoder.inverse_transform([np.argmax(feature_model1_prediction)])[0])\n",
        "#         feature_model2_predictions.append(label_encoder.inverse_transform([np.argmax(feature_model2_prediction)])[0])\n",
        "#         spectrogram_model1_predictions.append(label_encoder.inverse_transform([np.argmax(spectrogram_model1_prediction)])[0])\n",
        "#         spectrogram_model2_predictions.append(label_encoder.inverse_transform([np.argmax(spectrogram_model2_prediction)])[0])\n",
        "#         spectrogram_model3_predictions.append(label_encoder.inverse_transform([np.argmax(spectrogram_model3_prediction)])[0])\n",
        "\n",
        "#         # Ensemble prediction using stacking ensemble (meta_model)\n",
        "#         # Concatenate the predictions as input features for the meta-model\n",
        "#         X_meta_test = np.concatenate((feature_model1_prediction, feature_model2_prediction,\n",
        "#                                       spectrogram_model1_prediction, spectrogram_model2_prediction,\n",
        "#                                       spectrogram_model3_prediction), axis=1)\n",
        "\n",
        "#         # Load the meta-model (stacked ensemble model)\n",
        "#         meta_model = load_model('stacked_ensemble_model.h5')\n",
        "\n",
        "#         # Predict with the meta-model (stacked ensemble)\n",
        "#         ensemble_prediction = meta_model.predict(X_meta_test)\n",
        "#         ensemble_prediction = label_encoder.inverse_transform([np.argmax(ensemble_prediction)])[0]\n",
        "\n",
        "#         # Append the predicted label to the ensemble predictions list\n",
        "#         ensemble_predictions.append(ensemble_prediction)\n",
        "\n",
        "#         # # Print predictions for each segment for each individual model\n",
        "#         # print(f\"Segment {segment_index + 1} Predictions:\")\n",
        "#         # print(\"Feature Model 1 Prediction:\", label_encoder.inverse_transform([np.argmax(feature_model1_prediction)])[0])\n",
        "#         # print(\"Feature Model 2 Prediction:\", label_encoder.inverse_transform([np.argmax(feature_model2_prediction)])[0])\n",
        "#         # print(\"Spectrogram Model 1 Prediction:\", label_encoder.inverse_transform([np.argmax(spectrogram_model1_prediction)])[0])\n",
        "#         # print(\"Spectrogram Model 2 Prediction:\", label_encoder.inverse_transform([np.argmax(spectrogram_model2_prediction)])[0])\n",
        "#         # print(\"Spectrogram Model 3 Prediction:\", label_encoder.inverse_transform([np.argmax(spectrogram_model3_prediction)])[0])\n",
        "\n",
        "#         # # Print ensemble prediction\n",
        "#         # print(\"Ensemble Prediction:\", ensemble_prediction)\n",
        "#         # print()\n",
        "\n",
        "#     # Convert predictions to tuples for Counter\n",
        "#     feature_model1_predictions = tuple(feature_model1_predictions)\n",
        "#     feature_model2_predictions = tuple(feature_model2_predictions)\n",
        "#     spectrogram_model1_predictions = tuple(spectrogram_model1_predictions)\n",
        "#     spectrogram_model2_predictions = tuple(spectrogram_model2_predictions)\n",
        "#     spectrogram_model3_predictions = tuple(spectrogram_model3_predictions)\n",
        "#     ensemble_predictions = tuple(ensemble_predictions)\n",
        "\n",
        "#     # Find the most common predictions for each model\n",
        "#     most_common_feature_model1 = Counter(feature_model1_predictions).most_common(1)[0][0]\n",
        "#     most_common_feature_model2 = Counter(feature_model2_predictions).most_common(1)[0][0]\n",
        "#     most_common_spectrogram_model1 = Counter(spectrogram_model1_predictions).most_common(1)[0][0]\n",
        "#     most_common_spectrogram_model2 = Counter(spectrogram_model2_predictions).most_common(1)[0][0]\n",
        "#     most_common_spectrogram_model3 = Counter(spectrogram_model3_predictions).most_common(1)[0][0]\n",
        "#     most_common_ensemble = Counter(ensemble_predictions).most_common(1)[0][0]\n",
        "\n",
        "#     print(\"Most Common feature_model1 Prediction:\", most_common_feature_model1)\n",
        "#     print(\"Most Common feature_model2 Prediction:\", most_common_feature_model2)\n",
        "#     print(\"Most Common spectrogram_model1 Prediction:\", most_common_spectrogram_model1)\n",
        "#     print(\"Most Common spectrogram_model2 Prediction:\", most_common_spectrogram_model2)\n",
        "#     print(\"Most Common spectrogram_model3 Prediction:\", most_common_spectrogram_model3)\n",
        "#     print(\"Most Common ensemble_model Prediction:\", most_common_ensemble)\n"
      ]
    },
    {
      "cell_type": "markdown",
      "metadata": {
        "id": "Y8SNuxOguKhL"
      },
      "source": [
        "## probablity averaging"
      ]
    },
    {
      "cell_type": "code",
      "execution_count": 1,
      "metadata": {
        "id": "XRcvFohcuFm6"
      },
      "outputs": [],
      "source": [
        "import os\n",
        "import tempfile\n",
        "import numpy as np\n",
        "import matplotlib.pyplot as plt\n",
        "import librosa\n",
        "import librosa.display\n",
        "import tensorflow as tf\n",
        "from tensorflow.keras.models import load_model\n",
        "import joblib\n",
        "from collections import Counter\n",
        "tf.keras.utils.disable_interactive_logging()\n",
        "\n",
        "from collections import Counter\n",
        "\n",
        "def test_music_genre(audio_file):\n",
        "    # Define the function to extract features from audio\n",
        "    def extract_features_segment(audio_data, sr):\n",
        "        chroma_stft_mean = np.mean(librosa.feature.chroma_stft(y=audio_data, sr=sr))\n",
        "        chroma_stft_var = np.var(librosa.feature.chroma_stft(y=audio_data, sr=sr))\n",
        "        rms_mean = np.mean(librosa.feature.rms(y=audio_data))\n",
        "        rms_var = np.var(librosa.feature.rms(y=audio_data))\n",
        "        spectral_centroid_mean = np.mean(librosa.feature.spectral_centroid(y=audio_data, sr=sr))\n",
        "        spectral_centroid_var = np.var(librosa.feature.spectral_centroid(y=audio_data, sr=sr))\n",
        "        spectral_bandwidth_mean = np.mean(librosa.feature.spectral_bandwidth(y=audio_data, sr=sr))\n",
        "        spectral_bandwidth_var = np.var(librosa.feature.spectral_bandwidth(y=audio_data, sr=sr))\n",
        "        rolloff_mean = np.mean(librosa.feature.spectral_rolloff(y=audio_data, sr=sr))\n",
        "        rolloff_var = np.var(librosa.feature.spectral_rolloff(y=audio_data, sr=sr))\n",
        "        zero_crossing_rate_mean = np.mean(librosa.feature.zero_crossing_rate(audio_data))\n",
        "        zero_crossing_rate_var = np.var(librosa.feature.zero_crossing_rate(audio_data))\n",
        "        harmony_mean = np.mean(librosa.effects.harmonic(y=audio_data))\n",
        "        harmony_var = np.var(librosa.effects.harmonic(y=audio_data))\n",
        "        perceptr_mean = np.mean(librosa.effects.percussive(y=audio_data))\n",
        "        perceptr_var = np.var(librosa.effects.percussive(y=audio_data))\n",
        "        tempo, _ = librosa.beat.beat_track(y=audio_data, sr=sr)\n",
        "        mfccs = librosa.feature.mfcc(y=audio_data, sr=sr, n_mfcc=20)\n",
        "        mfcc_means = np.mean(mfccs, axis=1)\n",
        "        mfcc_vars = np.var(mfccs, axis=1)\n",
        "\n",
        "        # Combine the extracted features into a single array\n",
        "        return [chroma_stft_mean, chroma_stft_var, rms_mean, rms_var, spectral_centroid_mean,\n",
        "                spectral_centroid_var, spectral_bandwidth_mean, spectral_bandwidth_var, rolloff_mean,\n",
        "                rolloff_var, zero_crossing_rate_mean, zero_crossing_rate_var, harmony_mean, harmony_var,\n",
        "                perceptr_mean, perceptr_var, tempo] + list(mfcc_means) + list(mfcc_vars)\n",
        "\n",
        "    # Define the function to create spectrogram from audio\n",
        "    def create_spectrogram(audio_data, sr, temp_dir, input_shape):\n",
        "        plt.figure(figsize=(3, 3))\n",
        "        D = librosa.amplitude_to_db(np.abs(librosa.stft(audio_data)), ref=np.max)\n",
        "        librosa.display.specshow(D, sr=sr, x_axis='time', y_axis='log', cmap='viridis')\n",
        "        plt.axis('off')\n",
        "\n",
        "        # Use the provided temporary directory\n",
        "        spectrogram_filename = os.path.join(temp_dir, 'spectrogram.png')\n",
        "        plt.savefig(spectrogram_filename, bbox_inches='tight', pad_inches=0, transparent=True)\n",
        "        plt.close()\n",
        "\n",
        "        return spectrogram_filename\n",
        "\n",
        "    # Load the saved models\n",
        "    feature_model1 = load_model('ann_feature_10sec_model.h5')  # Replace with the actual path to your model\n",
        "    feature_model2 = load_model('cnn_feature_10sec_model.h5')  # Replace with the actual path to your model\n",
        "\n",
        "    spectrogram_model1 = load_model('CNN_spectrogram_10sec_model.h5')  # Replace with the actual path to your model\n",
        "    spectrogram_model2 = load_model('GRU_spectrogram_10sec_model.h5')  # Replace with the actual path to your model\n",
        "    spectrogram_model3 = load_model('LSTM_spectrogram_10sec_model.h5')\n",
        "\n",
        "    # Load the scaler and label encoder for feature-based models\n",
        "    scaler = joblib.load('scaler.pkl')\n",
        "    label_encoder = joblib.load('label_encoder.pkl')\n",
        "\n",
        "    # Define a function to preprocess input for feature-based models\n",
        "    def preprocess_features(audio_data, sr):\n",
        "        features = extract_features_segment(audio_data, sr)\n",
        "        features_scaled = scaler.transform(np.array([features]))\n",
        "        return features_scaled\n",
        "\n",
        "    # Define a function to preprocess input for spectrogram-based models\n",
        "    def preprocess_spectrogram(audio_data, sr):\n",
        "        input_shape = (64, 64, 3)  # Assuming input shape for spectrogram models\n",
        "        with tempfile.TemporaryDirectory() as temp_dir:\n",
        "            spectrogram_filename = create_spectrogram(audio_data, sr, temp_dir, input_shape)\n",
        "            spectrogram = tf.keras.preprocessing.image.load_img(spectrogram_filename, target_size=(input_shape[0], input_shape[1]))\n",
        "            spectrogram = tf.keras.preprocessing.image.img_to_array(spectrogram)\n",
        "            spectrogram /= 255.0  # Normalize pixel values to [0, 1]\n",
        "            spectrogram = np.expand_dims(spectrogram, axis=0)\n",
        "        return spectrogram\n",
        "\n",
        "\n",
        "    # Load the audio file\n",
        "    audio_data, sr = librosa.load(audio_file)\n",
        "\n",
        "    # Define segment duration (10 seconds)\n",
        "    segment_duration = 10 * sr\n",
        "\n",
        "    # Calculate the number of segments\n",
        "    num_segments = len(audio_data) // segment_duration\n",
        "\n",
        "    # Define lists to store predictions for each model\n",
        "    feature_model1_predictions = []\n",
        "    feature_model2_predictions = []\n",
        "    spectrogram_model1_predictions = []\n",
        "    spectrogram_model2_predictions = []\n",
        "    spectrogram_model3_predictions = []\n",
        "    ensemble_predictions = []\n",
        "\n",
        "    # Iterate over each segment\n",
        "    for segment_index in range(num_segments):\n",
        "        start_sample = segment_index * segment_duration\n",
        "        end_sample = (segment_index + 1) * segment_duration\n",
        "        segment_audio = audio_data[start_sample:end_sample]\n",
        "\n",
        "        # Predictions for each individual model\n",
        "        features_input = preprocess_features(segment_audio, sr)\n",
        "        spectrogram_input = preprocess_spectrogram(segment_audio, sr)\n",
        "\n",
        "        feature_model1_prediction = feature_model1.predict(features_input.reshape(1, features_input.shape[1],))\n",
        "        feature_model2_prediction = feature_model2.predict(features_input.reshape(1, features_input.shape[1],1))\n",
        "        spectrogram_model1_prediction = spectrogram_model1.predict(spectrogram_input)\n",
        "        spectrogram_model2_prediction = spectrogram_model2.predict(spectrogram_input)\n",
        "        spectrogram_model3_prediction = spectrogram_model3.predict(spectrogram_input)\n",
        "\n",
        "        # Append predictions to respective lists\n",
        "        feature_model1_predictions.append(label_encoder.inverse_transform([np.argmax(feature_model1_prediction)])[0])\n",
        "        feature_model2_predictions.append(label_encoder.inverse_transform([np.argmax(feature_model2_prediction)])[0])\n",
        "        spectrogram_model1_predictions.append(label_encoder.inverse_transform([np.argmax(spectrogram_model1_prediction)])[0])\n",
        "        spectrogram_model2_predictions.append(label_encoder.inverse_transform([np.argmax(spectrogram_model2_prediction)])[0])\n",
        "        spectrogram_model3_predictions.append(label_encoder.inverse_transform([np.argmax(spectrogram_model3_prediction)])[0])\n",
        "\n",
        "        # Ensemble prediction using stacking ensemble (meta_model)\n",
        "        # Concatenate the predictions as input features for the meta-model\n",
        "        X_meta_test = (feature_model1_prediction + feature_model2_prediction + spectrogram_model1_prediction + spectrogram_model2_prediction + spectrogram_model3_prediction) / 5.0\n",
        "\n",
        "        # Load the meta-model (stacked ensemble model)\n",
        "        meta_model = load_model('ensemble_averaging_model.h5')\n",
        "\n",
        "        # Predict with the meta-model (stacked ensemble)\n",
        "        ensemble_prediction = meta_model.predict(X_meta_test)\n",
        "        ensemble_prediction = label_encoder.inverse_transform([np.argmax(ensemble_prediction)])[0]\n",
        "\n",
        "        # Append the predicted label to the ensemble predictions list\n",
        "        ensemble_predictions.append(ensemble_prediction)\n",
        "\n",
        "        # # Print predictions for each segment for each individual model\n",
        "        # print(f\"Segment {segment_index + 1} Predictions:\")\n",
        "        # print(\"Feature Model 1 Prediction:\", label_encoder.inverse_transform([np.argmax(feature_model1_prediction)])[0])\n",
        "        # print(\"Feature Model 2 Prediction:\", label_encoder.inverse_transform([np.argmax(feature_model2_prediction)])[0])\n",
        "        # print(\"Spectrogram Model 1 Prediction:\", label_encoder.inverse_transform([np.argmax(spectrogram_model1_prediction)])[0])\n",
        "        # print(\"Spectrogram Model 2 Prediction:\", label_encoder.inverse_transform([np.argmax(spectrogram_model2_prediction)])[0])\n",
        "        # print(\"Spectrogram Model 3 Prediction:\", label_encoder.inverse_transform([np.argmax(spectrogram_model3_prediction)])[0])\n",
        "\n",
        "        # # Print ensemble prediction\n",
        "        # print(\"Ensemble Prediction:\", ensemble_prediction)\n",
        "        # print()\n",
        "\n",
        "    # Convert predictions to tuples for Counter\n",
        "    feature_model1_predictions = tuple(feature_model1_predictions)\n",
        "    feature_model2_predictions = tuple(feature_model2_predictions)\n",
        "    spectrogram_model1_predictions = tuple(spectrogram_model1_predictions)\n",
        "    spectrogram_model2_predictions = tuple(spectrogram_model2_predictions)\n",
        "    spectrogram_model3_predictions = tuple(spectrogram_model3_predictions)\n",
        "    ensemble_predictions = tuple(ensemble_predictions)\n",
        "\n",
        "    # Find the most common predictions for each model\n",
        "    most_common_feature_model1 = Counter(feature_model1_predictions).most_common(1)[0][0]\n",
        "    most_common_feature_model2 = Counter(feature_model2_predictions).most_common(1)[0][0]\n",
        "    most_common_spectrogram_model1 = Counter(spectrogram_model1_predictions).most_common(1)[0][0]\n",
        "    most_common_spectrogram_model2 = Counter(spectrogram_model2_predictions).most_common(1)[0][0]\n",
        "    most_common_spectrogram_model3 = Counter(spectrogram_model3_predictions).most_common(1)[0][0]\n",
        "    most_common_ensemble = Counter(ensemble_predictions).most_common(1)[0][0]\n",
        "\n",
        "    print(\"Most Common feature_model1 Prediction:\", most_common_feature_model1)\n",
        "    print(\"Most Common feature_model2 Prediction:\", most_common_feature_model2)\n",
        "    print(\"Most Common spectrogram_model1 Prediction:\", most_common_spectrogram_model1)\n",
        "    print(\"Most Common spectrogram_model2 Prediction:\", most_common_spectrogram_model2)\n",
        "    print(\"Most Common spectrogram_model3 Prediction:\", most_common_spectrogram_model3)\n",
        "    print(\"Most Common ensemble_model Prediction:\", most_common_ensemble)\n"
      ]
    },
    {
      "cell_type": "code",
      "execution_count": 2,
      "metadata": {
        "id": "fDsYaOhyM3hG"
      },
      "outputs": [],
      "source": [
        "def test_music_genre_folder(folder_path):\n",
        "    # List all files in the folder\n",
        "    audio_files = [os.path.join(folder_path, file) for file in os.listdir(folder_path) if file.endswith(('.wav', '.mp3', '.FLAC'))]\n",
        "\n",
        "    # Perform genre classification for each audio file\n",
        "    for audio_file in audio_files:\n",
        "        print(f\"Audio File: {os.path.basename(audio_file)}\")\n",
        "        print(\"-\" * 50)\n",
        "        test_music_genre(audio_file)\n",
        "        print(\"=\" * 50)\n",
        "        print()\n",
        "\n"
      ]
    },
    {
      "cell_type": "markdown",
      "metadata": {
        "id": "KwcAvhGZNdm_"
      },
      "source": [
        "## Blues"
      ]
    },
    {
      "cell_type": "code",
      "execution_count": 3,
      "metadata": {
        "colab": {
          "base_uri": "https://localhost:8080/"
        },
        "id": "aIk-kFQ1Ng_i",
        "outputId": "22e96fe7-fb18-4756-aab9-796de3d140bb"
      },
      "outputs": [
        {
          "output_type": "stream",
          "name": "stdout",
          "text": [
            "Audio File: 07. Terraplane Blues (Remastered).mp3\n",
            "--------------------------------------------------\n"
          ]
        },
        {
          "output_type": "stream",
          "name": "stderr",
          "text": [
            "WARNING:tensorflow:5 out of the last 5 calls to <function Model.make_predict_function.<locals>.predict_function at 0x7eeed71be4d0> triggered tf.function retracing. Tracing is expensive and the excessive number of tracings could be due to (1) creating @tf.function repeatedly in a loop, (2) passing tensors with different shapes, (3) passing Python objects instead of tensors. For (1), please define your @tf.function outside of the loop. For (2), @tf.function has reduce_retracing=True option that can avoid unnecessary retracing. For (3), please refer to https://www.tensorflow.org/guide/function#controlling_retracing and https://www.tensorflow.org/api_docs/python/tf/function for  more details.\n",
            "WARNING:tensorflow:6 out of the last 6 calls to <function Model.make_predict_function.<locals>.predict_function at 0x7eee94761000> triggered tf.function retracing. Tracing is expensive and the excessive number of tracings could be due to (1) creating @tf.function repeatedly in a loop, (2) passing tensors with different shapes, (3) passing Python objects instead of tensors. For (1), please define your @tf.function outside of the loop. For (2), @tf.function has reduce_retracing=True option that can avoid unnecessary retracing. For (3), please refer to https://www.tensorflow.org/guide/function#controlling_retracing and https://www.tensorflow.org/api_docs/python/tf/function for  more details.\n"
          ]
        },
        {
          "output_type": "stream",
          "name": "stdout",
          "text": [
            "Most Common feature_model1 Prediction: blues\n",
            "Most Common feature_model2 Prediction: country\n",
            "Most Common spectrogram_model1 Prediction: blues\n",
            "Most Common spectrogram_model2 Prediction: blues\n",
            "Most Common spectrogram_model3 Prediction: blues\n",
            "Most Common ensemble_model Prediction: blues\n",
            "==================================================\n",
            "\n",
            "Audio File: 05. When You Got A Good Friend (Remastered).mp3\n",
            "--------------------------------------------------\n",
            "Most Common feature_model1 Prediction: blues\n",
            "Most Common feature_model2 Prediction: country\n",
            "Most Common spectrogram_model1 Prediction: blues\n",
            "Most Common spectrogram_model2 Prediction: blues\n",
            "Most Common spectrogram_model3 Prediction: blues\n",
            "Most Common ensemble_model Prediction: blues\n",
            "==================================================\n",
            "\n",
            "Audio File: 01. Kind Hearted Woman Blues (Remastered).mp3\n",
            "--------------------------------------------------\n",
            "Most Common feature_model1 Prediction: jazz\n",
            "Most Common feature_model2 Prediction: jazz\n",
            "Most Common spectrogram_model1 Prediction: blues\n",
            "Most Common spectrogram_model2 Prediction: blues\n",
            "Most Common spectrogram_model3 Prediction: blues\n",
            "Most Common ensemble_model Prediction: blues\n",
            "==================================================\n",
            "\n",
            "Audio File: 02. I Believe I'll Dust My Broom (Remastered).mp3\n",
            "--------------------------------------------------\n",
            "Most Common feature_model1 Prediction: blues\n",
            "Most Common feature_model2 Prediction: country\n",
            "Most Common spectrogram_model1 Prediction: blues\n",
            "Most Common spectrogram_model2 Prediction: blues\n",
            "Most Common spectrogram_model3 Prediction: blues\n",
            "Most Common ensemble_model Prediction: blues\n",
            "==================================================\n",
            "\n",
            "Audio File: 06. Come On In My Kitchen (Remastered).mp3\n",
            "--------------------------------------------------\n",
            "Most Common feature_model1 Prediction: country\n",
            "Most Common feature_model2 Prediction: country\n",
            "Most Common spectrogram_model1 Prediction: blues\n",
            "Most Common spectrogram_model2 Prediction: blues\n",
            "Most Common spectrogram_model3 Prediction: blues\n",
            "Most Common ensemble_model Prediction: blues\n",
            "==================================================\n",
            "\n",
            "Audio File: 03. Sweet Home Chicago (Remastered).mp3\n",
            "--------------------------------------------------\n",
            "Most Common feature_model1 Prediction: blues\n",
            "Most Common feature_model2 Prediction: country\n",
            "Most Common spectrogram_model1 Prediction: blues\n",
            "Most Common spectrogram_model2 Prediction: blues\n",
            "Most Common spectrogram_model3 Prediction: blues\n",
            "Most Common ensemble_model Prediction: blues\n",
            "==================================================\n",
            "\n",
            "Audio File: 04. Ramblin' On My Mind (Remastered).mp3\n",
            "--------------------------------------------------\n",
            "Most Common feature_model1 Prediction: jazz\n",
            "Most Common feature_model2 Prediction: country\n",
            "Most Common spectrogram_model1 Prediction: blues\n",
            "Most Common spectrogram_model2 Prediction: blues\n",
            "Most Common spectrogram_model3 Prediction: blues\n",
            "Most Common ensemble_model Prediction: blues\n",
            "==================================================\n",
            "\n"
          ]
        }
      ],
      "source": [
        "folder_path = \"/content/drive/MyDrive/music genre classification/final/Final music audios/Blues\"\n",
        "\n",
        "test_music_genre_folder(folder_path)"
      ]
    },
    {
      "cell_type": "markdown",
      "metadata": {
        "id": "Qne-zhUgNjVb"
      },
      "source": [
        "## Classical"
      ]
    },
    {
      "cell_type": "code",
      "execution_count": 4,
      "metadata": {
        "colab": {
          "base_uri": "https://localhost:8080/"
        },
        "id": "RfFHh3YqNqNd",
        "outputId": "52aec74e-0fdd-49a5-a529-f3d11416e0b4"
      },
      "outputs": [
        {
          "output_type": "stream",
          "name": "stdout",
          "text": [
            "Audio File: 02 AMidsummer Night's Dream, Dance of the Clowns.wav\n",
            "--------------------------------------------------\n",
            "Most Common feature_model1 Prediction: classical\n",
            "Most Common feature_model2 Prediction: classical\n",
            "Most Common spectrogram_model1 Prediction: classical\n",
            "Most Common spectrogram_model2 Prediction: classical\n",
            "Most Common spectrogram_model3 Prediction: classical\n",
            "Most Common ensemble_model Prediction: classical\n",
            "==================================================\n",
            "\n",
            "Audio File: 07 Swan Lake, Tanz der Schwane.wav\n",
            "--------------------------------------------------\n",
            "Most Common feature_model1 Prediction: classical\n",
            "Most Common feature_model2 Prediction: classical\n",
            "Most Common spectrogram_model1 Prediction: classical\n",
            "Most Common spectrogram_model2 Prediction: classical\n",
            "Most Common spectrogram_model3 Prediction: classical\n",
            "Most Common ensemble_model Prediction: classical\n",
            "==================================================\n",
            "\n",
            "Audio File: 05 Spring Song.wav\n",
            "--------------------------------------------------\n",
            "Most Common feature_model1 Prediction: classical\n",
            "Most Common feature_model2 Prediction: classical\n",
            "Most Common spectrogram_model1 Prediction: classical\n",
            "Most Common spectrogram_model2 Prediction: classical\n",
            "Most Common spectrogram_model3 Prediction: classical\n",
            "Most Common ensemble_model Prediction: classical\n",
            "==================================================\n",
            "\n",
            "Audio File: 04 Turkish March.wav\n",
            "--------------------------------------------------\n",
            "Most Common feature_model1 Prediction: classical\n",
            "Most Common feature_model2 Prediction: classical\n",
            "Most Common spectrogram_model1 Prediction: classical\n",
            "Most Common spectrogram_model2 Prediction: classical\n",
            "Most Common spectrogram_model3 Prediction: classical\n",
            "Most Common ensemble_model Prediction: classical\n",
            "==================================================\n",
            "\n",
            "Audio File: 03 Berceuse.wav\n",
            "--------------------------------------------------\n",
            "Most Common feature_model1 Prediction: classical\n",
            "Most Common feature_model2 Prediction: classical\n",
            "Most Common spectrogram_model1 Prediction: classical\n",
            "Most Common spectrogram_model2 Prediction: classical\n",
            "Most Common spectrogram_model3 Prediction: classical\n",
            "Most Common ensemble_model Prediction: classical\n",
            "==================================================\n",
            "\n",
            "Audio File: 01 Piano Concerto in B flat minor, Allegro non troppo.wav\n",
            "--------------------------------------------------\n",
            "Most Common feature_model1 Prediction: classical\n",
            "Most Common feature_model2 Prediction: classical\n",
            "Most Common spectrogram_model1 Prediction: classical\n",
            "Most Common spectrogram_model2 Prediction: classical\n",
            "Most Common spectrogram_model3 Prediction: classical\n",
            "Most Common ensemble_model Prediction: classical\n",
            "==================================================\n",
            "\n"
          ]
        }
      ],
      "source": [
        "folder_path = \"/content/drive/MyDrive/music genre classification/final/Final music audios/Classical\"\n",
        "\n",
        "test_music_genre_folder(folder_path)"
      ]
    },
    {
      "cell_type": "markdown",
      "metadata": {
        "id": "hkQZRrbFPFnV"
      },
      "source": [
        "##Country"
      ]
    },
    {
      "cell_type": "code",
      "execution_count": 5,
      "metadata": {
        "colab": {
          "base_uri": "https://localhost:8080/"
        },
        "id": "9VbG8t3zPHBt",
        "outputId": "d881b2af-4005-42b0-844e-f63c8f208072"
      },
      "outputs": [
        {
          "output_type": "stream",
          "name": "stdout",
          "text": [
            "Audio File: 01 - Skeeter Davis (Mary Frances Penick) - Desperado (unknown Cover The eagles 1973).FLAC\n",
            "--------------------------------------------------\n",
            "Most Common feature_model1 Prediction: country\n",
            "Most Common feature_model2 Prediction: country\n",
            "Most Common spectrogram_model1 Prediction: country\n",
            "Most Common spectrogram_model2 Prediction: country\n",
            "Most Common spectrogram_model3 Prediction: country\n",
            "Most Common ensemble_model Prediction: country\n",
            "==================================================\n",
            "\n",
            "Audio File: 02 - Lynn Andersen - Rose garden (1970 Cover Joe South 1969).FLAC\n",
            "--------------------------------------------------\n",
            "Most Common feature_model1 Prediction: rock\n",
            "Most Common feature_model2 Prediction: rock\n",
            "Most Common spectrogram_model1 Prediction: country\n",
            "Most Common spectrogram_model2 Prediction: country\n",
            "Most Common spectrogram_model3 Prediction: country\n",
            "Most Common ensemble_model Prediction: country\n",
            "==================================================\n",
            "\n",
            "Audio File: 03 - Willie Nelson - Pretty paper (1979 Cover Roy Orbison 1963).FLAC\n",
            "--------------------------------------------------\n",
            "Most Common feature_model1 Prediction: country\n",
            "Most Common feature_model2 Prediction: country\n",
            "Most Common spectrogram_model1 Prediction: country\n",
            "Most Common spectrogram_model2 Prediction: country\n",
            "Most Common spectrogram_model3 Prediction: rock\n",
            "Most Common ensemble_model Prediction: country\n",
            "==================================================\n",
            "\n",
            "Audio File: 04 - Jimmie Rodgers - Kisses sweeter than wine (1957 Cover The weavers 1950).FLAC\n",
            "--------------------------------------------------\n",
            "Most Common feature_model1 Prediction: country\n",
            "Most Common feature_model2 Prediction: country\n",
            "Most Common spectrogram_model1 Prediction: blues\n",
            "Most Common spectrogram_model2 Prediction: country\n",
            "Most Common spectrogram_model3 Prediction: jazz\n",
            "Most Common ensemble_model Prediction: country\n",
            "==================================================\n",
            "\n",
            "Audio File: 05 - Johnny Cash - Guess things happen that way (1958).FLAC\n",
            "--------------------------------------------------\n",
            "Most Common feature_model1 Prediction: country\n",
            "Most Common feature_model2 Prediction: country\n",
            "Most Common spectrogram_model1 Prediction: country\n",
            "Most Common spectrogram_model2 Prediction: country\n",
            "Most Common spectrogram_model3 Prediction: country\n",
            "Most Common ensemble_model Prediction: country\n",
            "==================================================\n",
            "\n",
            "Audio File: 06 - Frankie Laine - Moonlight gambler (1956).FLAC\n",
            "--------------------------------------------------\n",
            "Most Common feature_model1 Prediction: country\n",
            "Most Common feature_model2 Prediction: country\n",
            "Most Common spectrogram_model1 Prediction: country\n",
            "Most Common spectrogram_model2 Prediction: country\n",
            "Most Common spectrogram_model3 Prediction: country\n",
            "Most Common ensemble_model Prediction: country\n",
            "==================================================\n",
            "\n",
            "Audio File: 07 - Patsy Cline - Tennessee waltz (1950 Cover Cowboy copas 1947).FLAC\n",
            "--------------------------------------------------\n",
            "Most Common feature_model1 Prediction: country\n",
            "Most Common feature_model2 Prediction: country\n",
            "Most Common spectrogram_model1 Prediction: country\n",
            "Most Common spectrogram_model2 Prediction: country\n",
            "Most Common spectrogram_model3 Prediction: country\n",
            "Most Common ensemble_model Prediction: country\n",
            "==================================================\n",
            "\n"
          ]
        }
      ],
      "source": [
        "folder_path = \"/content/drive/MyDrive/music genre classification/final/Final music audios/Country\"\n",
        "\n",
        "test_music_genre_folder(folder_path)"
      ]
    },
    {
      "cell_type": "markdown",
      "metadata": {
        "id": "TlnCzgOvO0yz"
      },
      "source": [
        "##Disco"
      ]
    },
    {
      "cell_type": "code",
      "execution_count": 6,
      "metadata": {
        "colab": {
          "base_uri": "https://localhost:8080/"
        },
        "id": "rAB9BQv1OzwX",
        "outputId": "284f000b-e9ba-4088-f3f9-fe6a1826fb0c"
      },
      "outputs": [
        {
          "output_type": "stream",
          "name": "stdout",
          "text": [
            "Audio File: 01. Sister Sledge - He's the Greatest Dancer.mp3\n",
            "--------------------------------------------------\n",
            "Most Common feature_model1 Prediction: hiphop\n",
            "Most Common feature_model2 Prediction: metal\n",
            "Most Common spectrogram_model1 Prediction: disco\n",
            "Most Common spectrogram_model2 Prediction: disco\n",
            "Most Common spectrogram_model3 Prediction: disco\n",
            "Most Common ensemble_model Prediction: disco\n",
            "==================================================\n",
            "\n",
            "Audio File: 02. Chic - Le Freak.mp3\n",
            "--------------------------------------------------\n",
            "Most Common feature_model1 Prediction: disco\n",
            "Most Common feature_model2 Prediction: disco\n",
            "Most Common spectrogram_model1 Prediction: disco\n",
            "Most Common spectrogram_model2 Prediction: disco\n",
            "Most Common spectrogram_model3 Prediction: disco\n",
            "Most Common ensemble_model Prediction: disco\n",
            "==================================================\n",
            "\n",
            "Audio File: 03. Curtis Mayfield - Move on Up.mp3\n",
            "--------------------------------------------------\n",
            "Most Common feature_model1 Prediction: disco\n",
            "Most Common feature_model2 Prediction: rock\n",
            "Most Common spectrogram_model1 Prediction: disco\n",
            "Most Common spectrogram_model2 Prediction: disco\n",
            "Most Common spectrogram_model3 Prediction: disco\n",
            "Most Common ensemble_model Prediction: disco\n",
            "==================================================\n",
            "\n",
            "Audio File: 04. The Spinners - I'll Be Around.mp3\n",
            "--------------------------------------------------\n",
            "Most Common feature_model1 Prediction: rock\n",
            "Most Common feature_model2 Prediction: country\n",
            "Most Common spectrogram_model1 Prediction: disco\n",
            "Most Common spectrogram_model2 Prediction: rock\n",
            "Most Common spectrogram_model3 Prediction: rock\n",
            "Most Common ensemble_model Prediction: rock\n",
            "==================================================\n",
            "\n",
            "Audio File: 05. Hot Chocolate - You Sexy Thing.mp3\n",
            "--------------------------------------------------\n",
            "Most Common feature_model1 Prediction: disco\n",
            "Most Common feature_model2 Prediction: hiphop\n",
            "Most Common spectrogram_model1 Prediction: disco\n",
            "Most Common spectrogram_model2 Prediction: disco\n",
            "Most Common spectrogram_model3 Prediction: country\n",
            "Most Common ensemble_model Prediction: disco\n",
            "==================================================\n",
            "\n",
            "Audio File: 06. Kc & The Sunshine Band - That's the Way (I Like It).mp3\n",
            "--------------------------------------------------\n",
            "Most Common feature_model1 Prediction: disco\n",
            "Most Common feature_model2 Prediction: disco\n",
            "Most Common spectrogram_model1 Prediction: disco\n",
            "Most Common spectrogram_model2 Prediction: disco\n",
            "Most Common spectrogram_model3 Prediction: disco\n",
            "Most Common ensemble_model Prediction: disco\n",
            "==================================================\n",
            "\n",
            "Audio File: 07. Stacy Lattisaw - Jump to the Beat.mp3\n",
            "--------------------------------------------------\n",
            "Most Common feature_model1 Prediction: pop\n",
            "Most Common feature_model2 Prediction: pop\n",
            "Most Common spectrogram_model1 Prediction: disco\n",
            "Most Common spectrogram_model2 Prediction: disco\n",
            "Most Common spectrogram_model3 Prediction: disco\n",
            "Most Common ensemble_model Prediction: disco\n",
            "==================================================\n",
            "\n"
          ]
        }
      ],
      "source": [
        "folder_path = \"/content/drive/MyDrive/music genre classification/final/Final music audios/Disco\"\n",
        "\n",
        "test_music_genre_folder(folder_path)"
      ]
    },
    {
      "cell_type": "markdown",
      "metadata": {
        "id": "BaGVBXzRPUjW"
      },
      "source": [
        "##Hiphop"
      ]
    },
    {
      "cell_type": "code",
      "execution_count": 3,
      "metadata": {
        "colab": {
          "base_uri": "https://localhost:8080/"
        },
        "id": "wBIVNvgnPTqL",
        "outputId": "b306dfe9-40b4-43a9-ab94-f9981e1cb26e"
      },
      "outputs": [
        {
          "output_type": "stream",
          "name": "stdout",
          "text": [
            "Audio File: 04. N.Y. State Of Mind.mp3\n",
            "--------------------------------------------------\n"
          ]
        },
        {
          "output_type": "stream",
          "name": "stderr",
          "text": [
            "WARNING:tensorflow:5 out of the last 5 calls to <function Model.make_predict_function.<locals>.predict_function at 0x7b8ee04d68c0> triggered tf.function retracing. Tracing is expensive and the excessive number of tracings could be due to (1) creating @tf.function repeatedly in a loop, (2) passing tensors with different shapes, (3) passing Python objects instead of tensors. For (1), please define your @tf.function outside of the loop. For (2), @tf.function has reduce_retracing=True option that can avoid unnecessary retracing. For (3), please refer to https://www.tensorflow.org/guide/function#controlling_retracing and https://www.tensorflow.org/api_docs/python/tf/function for  more details.\n",
            "WARNING:tensorflow:6 out of the last 6 calls to <function Model.make_predict_function.<locals>.predict_function at 0x7b8e9e1953f0> triggered tf.function retracing. Tracing is expensive and the excessive number of tracings could be due to (1) creating @tf.function repeatedly in a loop, (2) passing tensors with different shapes, (3) passing Python objects instead of tensors. For (1), please define your @tf.function outside of the loop. For (2), @tf.function has reduce_retracing=True option that can avoid unnecessary retracing. For (3), please refer to https://www.tensorflow.org/guide/function#controlling_retracing and https://www.tensorflow.org/api_docs/python/tf/function for  more details.\n"
          ]
        },
        {
          "output_type": "stream",
          "name": "stdout",
          "text": [
            "Most Common feature_model1 Prediction: reggae\n",
            "Most Common feature_model2 Prediction: hiphop\n",
            "Most Common spectrogram_model1 Prediction: rock\n",
            "Most Common spectrogram_model2 Prediction: rock\n",
            "Most Common spectrogram_model3 Prediction: rock\n",
            "Most Common ensemble_model Prediction: rock\n",
            "==================================================\n",
            "\n",
            "Audio File: 06. Mama Said Knock You Out.mp3\n",
            "--------------------------------------------------\n",
            "Most Common feature_model1 Prediction: hiphop\n",
            "Most Common feature_model2 Prediction: hiphop\n",
            "Most Common spectrogram_model1 Prediction: hiphop\n",
            "Most Common spectrogram_model2 Prediction: hiphop\n",
            "Most Common spectrogram_model3 Prediction: hiphop\n",
            "Most Common ensemble_model Prediction: hiphop\n",
            "==================================================\n",
            "\n",
            "Audio File: 02. C.R.E.A.M..mp3\n",
            "--------------------------------------------------\n",
            "Most Common feature_model1 Prediction: reggae\n",
            "Most Common feature_model2 Prediction: reggae\n",
            "Most Common spectrogram_model1 Prediction: reggae\n",
            "Most Common spectrogram_model2 Prediction: hiphop\n",
            "Most Common spectrogram_model3 Prediction: hiphop\n",
            "Most Common ensemble_model Prediction: reggae\n",
            "==================================================\n",
            "\n",
            "Audio File: 05. Dear Mama.mp3\n",
            "--------------------------------------------------\n",
            "Most Common feature_model1 Prediction: hiphop\n",
            "Most Common feature_model2 Prediction: hiphop\n",
            "Most Common spectrogram_model1 Prediction: pop\n",
            "Most Common spectrogram_model2 Prediction: pop\n",
            "Most Common spectrogram_model3 Prediction: reggae\n",
            "Most Common ensemble_model Prediction: hiphop\n",
            "==================================================\n",
            "\n",
            "Audio File: 03. Mind Playing Tricks On Me.mp3\n",
            "--------------------------------------------------\n",
            "Most Common feature_model1 Prediction: hiphop\n",
            "Most Common feature_model2 Prediction: hiphop\n",
            "Most Common spectrogram_model1 Prediction: hiphop\n",
            "Most Common spectrogram_model2 Prediction: hiphop\n",
            "Most Common spectrogram_model3 Prediction: hiphop\n",
            "Most Common ensemble_model Prediction: hiphop\n",
            "==================================================\n",
            "\n",
            "Audio File: 07. Check The Rhime.mp3\n",
            "--------------------------------------------------\n",
            "Most Common feature_model1 Prediction: hiphop\n",
            "Most Common feature_model2 Prediction: hiphop\n",
            "Most Common spectrogram_model1 Prediction: hiphop\n",
            "Most Common spectrogram_model2 Prediction: hiphop\n",
            "Most Common spectrogram_model3 Prediction: hiphop\n",
            "Most Common ensemble_model Prediction: hiphop\n",
            "==================================================\n",
            "\n",
            "Audio File: 01. They Reminisce Over You (T.R.O.Y.).mp3\n",
            "--------------------------------------------------\n",
            "Most Common feature_model1 Prediction: hiphop\n",
            "Most Common feature_model2 Prediction: hiphop\n",
            "Most Common spectrogram_model1 Prediction: hiphop\n",
            "Most Common spectrogram_model2 Prediction: hiphop\n",
            "Most Common spectrogram_model3 Prediction: hiphop\n",
            "Most Common ensemble_model Prediction: hiphop\n",
            "==================================================\n",
            "\n"
          ]
        }
      ],
      "source": [
        "folder_path = \"/content/drive/MyDrive/music genre classification/final/Final music audios/Hiphop\"\n",
        "\n",
        "test_music_genre_folder(folder_path)"
      ]
    },
    {
      "cell_type": "markdown",
      "metadata": {
        "id": "1ai-0r7xPgi1"
      },
      "source": [
        "##Jazz"
      ]
    },
    {
      "cell_type": "code",
      "source": [],
      "metadata": {
        "id": "QgwdpE7mFyLi"
      },
      "execution_count": null,
      "outputs": []
    },
    {
      "cell_type": "code",
      "execution_count": 4,
      "metadata": {
        "colab": {
          "base_uri": "https://localhost:8080/"
        },
        "id": "maplr-gtPhwA",
        "outputId": "4faf38bc-f413-416c-e98d-6e3382aba901"
      },
      "outputs": [
        {
          "output_type": "stream",
          "name": "stdout",
          "text": [
            "Audio File: 01. Bill Evans - Autumn Leaves.mp3\n",
            "--------------------------------------------------\n",
            "Most Common feature_model1 Prediction: jazz\n",
            "Most Common feature_model2 Prediction: jazz\n",
            "Most Common spectrogram_model1 Prediction: jazz\n",
            "Most Common spectrogram_model2 Prediction: jazz\n",
            "Most Common spectrogram_model3 Prediction: jazz\n",
            "Most Common ensemble_model Prediction: jazz\n",
            "==================================================\n",
            "\n",
            "Audio File: 02. Cannonball Adderley - Mercy, Mercy, Mercy.mp3\n",
            "--------------------------------------------------\n",
            "Most Common feature_model1 Prediction: blues\n",
            "Most Common feature_model2 Prediction: rock\n",
            "Most Common spectrogram_model1 Prediction: jazz\n",
            "Most Common spectrogram_model2 Prediction: country\n",
            "Most Common spectrogram_model3 Prediction: jazz\n",
            "Most Common ensemble_model Prediction: rock\n",
            "==================================================\n",
            "\n",
            "Audio File: 03. Herbie Hancock - Cantaloupe Island.mp3\n",
            "--------------------------------------------------\n",
            "Most Common feature_model1 Prediction: jazz\n",
            "Most Common feature_model2 Prediction: jazz\n",
            "Most Common spectrogram_model1 Prediction: country\n",
            "Most Common spectrogram_model2 Prediction: jazz\n",
            "Most Common spectrogram_model3 Prediction: jazz\n",
            "Most Common ensemble_model Prediction: jazz\n",
            "==================================================\n",
            "\n",
            "Audio File: 04. John Coltrane - Time After Time.mp3\n",
            "--------------------------------------------------\n",
            "Most Common feature_model1 Prediction: jazz\n",
            "Most Common feature_model2 Prediction: jazz\n",
            "Most Common spectrogram_model1 Prediction: jazz\n",
            "Most Common spectrogram_model2 Prediction: jazz\n",
            "Most Common spectrogram_model3 Prediction: jazz\n",
            "Most Common ensemble_model Prediction: jazz\n",
            "==================================================\n",
            "\n",
            "Audio File: 05. Stan Getz - A Nightingale Sang In Berkeley Square.mp3\n",
            "--------------------------------------------------\n",
            "Most Common feature_model1 Prediction: jazz\n",
            "Most Common feature_model2 Prediction: jazz\n",
            "Most Common spectrogram_model1 Prediction: jazz\n",
            "Most Common spectrogram_model2 Prediction: jazz\n",
            "Most Common spectrogram_model3 Prediction: jazz\n",
            "Most Common ensemble_model Prediction: jazz\n",
            "==================================================\n",
            "\n",
            "Audio File: 06. Art Blakey - Moanin'.mp3\n",
            "--------------------------------------------------\n",
            "Most Common feature_model1 Prediction: jazz\n",
            "Most Common feature_model2 Prediction: jazz\n",
            "Most Common spectrogram_model1 Prediction: jazz\n",
            "Most Common spectrogram_model2 Prediction: jazz\n",
            "Most Common spectrogram_model3 Prediction: jazz\n",
            "Most Common ensemble_model Prediction: jazz\n",
            "==================================================\n",
            "\n",
            "Audio File: 07. John Coltrane - Ruby, My Dear.mp3\n",
            "--------------------------------------------------\n",
            "Most Common feature_model1 Prediction: jazz\n",
            "Most Common feature_model2 Prediction: jazz\n",
            "Most Common spectrogram_model1 Prediction: jazz\n",
            "Most Common spectrogram_model2 Prediction: jazz\n",
            "Most Common spectrogram_model3 Prediction: jazz\n",
            "Most Common ensemble_model Prediction: jazz\n",
            "==================================================\n",
            "\n"
          ]
        }
      ],
      "source": [
        "folder_path = \"/content/drive/MyDrive/music genre classification/final/Final music audios/Jazz\"\n",
        "\n",
        "test_music_genre_folder(folder_path)"
      ]
    },
    {
      "cell_type": "markdown",
      "metadata": {
        "id": "hgp1O_-kPvOp"
      },
      "source": [
        "##Metal"
      ]
    },
    {
      "cell_type": "code",
      "execution_count": 5,
      "metadata": {
        "colab": {
          "base_uri": "https://localhost:8080/"
        },
        "id": "D2q2iCHtPsVf",
        "outputId": "1eedf63b-8c97-4ec0-888c-43771a528e13"
      },
      "outputs": [
        {
          "output_type": "stream",
          "name": "stdout",
          "text": [
            "Audio File: 001. Slipknot - Duality.mp3\n",
            "--------------------------------------------------\n",
            "Most Common feature_model1 Prediction: rock\n",
            "Most Common feature_model2 Prediction: metal\n",
            "Most Common spectrogram_model1 Prediction: metal\n",
            "Most Common spectrogram_model2 Prediction: metal\n",
            "Most Common spectrogram_model3 Prediction: metal\n",
            "Most Common ensemble_model Prediction: metal\n",
            "==================================================\n",
            "\n",
            "Audio File: 002. Iron Maiden - Run to the Hills (2015 Remaster).mp3\n",
            "--------------------------------------------------\n",
            "Most Common feature_model1 Prediction: rock\n",
            "Most Common feature_model2 Prediction: blues\n",
            "Most Common spectrogram_model1 Prediction: metal\n",
            "Most Common spectrogram_model2 Prediction: metal\n",
            "Most Common spectrogram_model3 Prediction: metal\n",
            "Most Common ensemble_model Prediction: metal\n",
            "==================================================\n",
            "\n",
            "Audio File: 003. Disturbed - Down with the Sickness.mp3\n",
            "--------------------------------------------------\n",
            "Most Common feature_model1 Prediction: metal\n",
            "Most Common feature_model2 Prediction: metal\n",
            "Most Common spectrogram_model1 Prediction: metal\n",
            "Most Common spectrogram_model2 Prediction: metal\n",
            "Most Common spectrogram_model3 Prediction: metal\n",
            "Most Common ensemble_model Prediction: metal\n",
            "==================================================\n",
            "\n",
            "Audio File: 004. Avenged Sevenfold - Hail to the King.mp3\n",
            "--------------------------------------------------\n",
            "Most Common feature_model1 Prediction: metal\n",
            "Most Common feature_model2 Prediction: metal\n",
            "Most Common spectrogram_model1 Prediction: metal\n",
            "Most Common spectrogram_model2 Prediction: metal\n",
            "Most Common spectrogram_model3 Prediction: metal\n",
            "Most Common ensemble_model Prediction: metal\n",
            "==================================================\n",
            "\n",
            "Audio File: 005. Hadouken! - That Boy That Girl.mp3\n",
            "--------------------------------------------------\n",
            "Most Common feature_model1 Prediction: pop\n",
            "Most Common feature_model2 Prediction: pop\n",
            "Most Common spectrogram_model1 Prediction: hiphop\n",
            "Most Common spectrogram_model2 Prediction: pop\n",
            "Most Common spectrogram_model3 Prediction: metal\n",
            "Most Common ensemble_model Prediction: pop\n",
            "==================================================\n",
            "\n",
            "Audio File: 006. Machine Head - Locust.mp3\n",
            "--------------------------------------------------\n",
            "Most Common feature_model1 Prediction: metal\n",
            "Most Common feature_model2 Prediction: metal\n",
            "Most Common spectrogram_model1 Prediction: metal\n",
            "Most Common spectrogram_model2 Prediction: metal\n",
            "Most Common spectrogram_model3 Prediction: metal\n",
            "Most Common ensemble_model Prediction: metal\n",
            "==================================================\n",
            "\n",
            "Audio File: 007. Deftones - My Own Summer (Shove It).mp3\n",
            "--------------------------------------------------\n",
            "Most Common feature_model1 Prediction: metal\n",
            "Most Common feature_model2 Prediction: metal\n",
            "Most Common spectrogram_model1 Prediction: metal\n",
            "Most Common spectrogram_model2 Prediction: metal\n",
            "Most Common spectrogram_model3 Prediction: metal\n",
            "Most Common ensemble_model Prediction: metal\n",
            "==================================================\n",
            "\n"
          ]
        }
      ],
      "source": [
        "folder_path = \"/content/drive/MyDrive/music genre classification/final/Final music audios/Metal\"\n",
        "\n",
        "test_music_genre_folder(folder_path)"
      ]
    },
    {
      "cell_type": "markdown",
      "metadata": {
        "id": "pcAl2hk1P1s2"
      },
      "source": [
        "##Pop"
      ]
    },
    {
      "cell_type": "code",
      "execution_count": 6,
      "metadata": {
        "id": "4j5mDoUcP4aw",
        "colab": {
          "base_uri": "https://localhost:8080/"
        },
        "outputId": "563a03c3-c4ab-479a-95d7-66bd3b0c2e07"
      },
      "outputs": [
        {
          "output_type": "stream",
          "name": "stdout",
          "text": [
            "Audio File: 01. Dua Lipa - Levitating.mp3\n",
            "--------------------------------------------------\n",
            "Most Common feature_model1 Prediction: pop\n",
            "Most Common feature_model2 Prediction: pop\n",
            "Most Common spectrogram_model1 Prediction: disco\n",
            "Most Common spectrogram_model2 Prediction: disco\n",
            "Most Common spectrogram_model3 Prediction: disco\n",
            "Most Common ensemble_model Prediction: disco\n",
            "==================================================\n",
            "\n",
            "Audio File: 02. Lady Gaga - Rain On Me.mp3\n",
            "--------------------------------------------------\n",
            "Most Common feature_model1 Prediction: pop\n",
            "Most Common feature_model2 Prediction: pop\n",
            "Most Common spectrogram_model1 Prediction: pop\n",
            "Most Common spectrogram_model2 Prediction: pop\n",
            "Most Common spectrogram_model3 Prediction: pop\n",
            "Most Common ensemble_model Prediction: pop\n",
            "==================================================\n",
            "\n",
            "Audio File: 03. Miley Cyrus - Midnight Sky.mp3\n",
            "--------------------------------------------------\n",
            "Most Common feature_model1 Prediction: pop\n",
            "Most Common feature_model2 Prediction: disco\n",
            "Most Common spectrogram_model1 Prediction: pop\n",
            "Most Common spectrogram_model2 Prediction: pop\n",
            "Most Common spectrogram_model3 Prediction: pop\n",
            "Most Common ensemble_model Prediction: pop\n",
            "==================================================\n",
            "\n",
            "Audio File: 04. BTS - Dynamite.mp3\n",
            "--------------------------------------------------\n",
            "Most Common feature_model1 Prediction: pop\n",
            "Most Common feature_model2 Prediction: hiphop\n",
            "Most Common spectrogram_model1 Prediction: pop\n",
            "Most Common spectrogram_model2 Prediction: pop\n",
            "Most Common spectrogram_model3 Prediction: pop\n",
            "Most Common ensemble_model Prediction: pop\n",
            "==================================================\n",
            "\n",
            "Audio File: 05. Tones and I - Dance Monkey.mp3\n",
            "--------------------------------------------------\n",
            "Most Common feature_model1 Prediction: pop\n",
            "Most Common feature_model2 Prediction: pop\n",
            "Most Common spectrogram_model1 Prediction: pop\n",
            "Most Common spectrogram_model2 Prediction: pop\n",
            "Most Common spectrogram_model3 Prediction: pop\n",
            "Most Common ensemble_model Prediction: pop\n",
            "==================================================\n",
            "\n",
            "Audio File: 06. Ava Max - Kings & Queens.mp3\n",
            "--------------------------------------------------\n",
            "Most Common feature_model1 Prediction: pop\n",
            "Most Common feature_model2 Prediction: pop\n",
            "Most Common spectrogram_model1 Prediction: pop\n",
            "Most Common spectrogram_model2 Prediction: pop\n",
            "Most Common spectrogram_model3 Prediction: pop\n",
            "Most Common ensemble_model Prediction: pop\n",
            "==================================================\n",
            "\n",
            "Audio File: 07. Sam Smith - Diamonds.mp3\n",
            "--------------------------------------------------\n",
            "Most Common feature_model1 Prediction: pop\n",
            "Most Common feature_model2 Prediction: hiphop\n",
            "Most Common spectrogram_model1 Prediction: pop\n",
            "Most Common spectrogram_model2 Prediction: pop\n",
            "Most Common spectrogram_model3 Prediction: pop\n",
            "Most Common ensemble_model Prediction: pop\n",
            "==================================================\n",
            "\n"
          ]
        }
      ],
      "source": [
        "folder_path = \"/content/drive/MyDrive/music genre classification/final/Final music audios/Pop\"\n",
        "\n",
        "test_music_genre_folder(folder_path)"
      ]
    },
    {
      "cell_type": "markdown",
      "metadata": {
        "id": "VLYox1zxQCPn"
      },
      "source": [
        "##Reggae"
      ]
    },
    {
      "cell_type": "code",
      "execution_count": 11,
      "metadata": {
        "id": "_iYRPH8WQCu9",
        "colab": {
          "base_uri": "https://localhost:8080/"
        },
        "outputId": "25bf4f84-99c3-4175-b560-17ee45ed6e49"
      },
      "outputs": [
        {
          "output_type": "stream",
          "name": "stdout",
          "text": [
            "Audio File: 05. The Harder They Come - Jimmy Cliff.mp3\n",
            "--------------------------------------------------\n",
            "Most Common feature_model1 Prediction: country\n",
            "Most Common feature_model2 Prediction: country\n",
            "Most Common spectrogram_model1 Prediction: reggae\n",
            "Most Common spectrogram_model2 Prediction: reggae\n",
            "Most Common spectrogram_model3 Prediction: reggae\n",
            "Most Common ensemble_model Prediction: reggae\n",
            "==================================================\n",
            "\n",
            "Audio File: 06. One Love - Bob Marley & the Wailers.mp3\n",
            "--------------------------------------------------\n",
            "Most Common feature_model1 Prediction: reggae\n",
            "Most Common feature_model2 Prediction: reggae\n",
            "Most Common spectrogram_model1 Prediction: reggae\n",
            "Most Common spectrogram_model2 Prediction: reggae\n",
            "Most Common spectrogram_model3 Prediction: reggae\n",
            "Most Common ensemble_model Prediction: reggae\n",
            "==================================================\n",
            "\n",
            "Audio File: 01. No Woman, No Cry - Bob Marley & the Wailers.mp3\n",
            "--------------------------------------------------\n",
            "Most Common feature_model1 Prediction: reggae\n",
            "Most Common feature_model2 Prediction: reggae\n",
            "Most Common spectrogram_model1 Prediction: country\n",
            "Most Common spectrogram_model2 Prediction: country\n",
            "Most Common spectrogram_model3 Prediction: country\n",
            "Most Common ensemble_model Prediction: reggae\n",
            "==================================================\n",
            "\n",
            "Audio File: 07. 54-46 That's My Number - Toots & the Maytals.mp3\n",
            "--------------------------------------------------\n",
            "Most Common feature_model1 Prediction: reggae\n",
            "Most Common feature_model2 Prediction: reggae\n",
            "Most Common spectrogram_model1 Prediction: reggae\n",
            "Most Common spectrogram_model2 Prediction: reggae\n",
            "Most Common spectrogram_model3 Prediction: reggae\n",
            "Most Common ensemble_model Prediction: reggae\n",
            "==================================================\n",
            "\n",
            "Audio File: 04. Pressure Drop - Toots & the Maytals.mp3\n",
            "--------------------------------------------------\n"
          ]
        },
        {
          "output_type": "stream",
          "name": "stderr",
          "text": [
            "<ipython-input-1-d50587726f11>:90: UserWarning: PySoundFile failed. Trying audioread instead.\n",
            "  audio_data, sr = librosa.load(audio_file)\n",
            "/usr/local/lib/python3.10/dist-packages/librosa/core/audio.py:183: FutureWarning: librosa.core.audio.__audioread_load\n",
            "\tDeprecated as of librosa version 0.10.0.\n",
            "\tIt will be removed in librosa version 1.0.\n",
            "  y, sr_native = __audioread_load(path, offset, duration, dtype)\n"
          ]
        },
        {
          "output_type": "stream",
          "name": "stdout",
          "text": [
            "Most Common feature_model1 Prediction: hiphop\n",
            "Most Common feature_model2 Prediction: rock\n",
            "Most Common spectrogram_model1 Prediction: blues\n",
            "Most Common spectrogram_model2 Prediction: pop\n",
            "Most Common spectrogram_model3 Prediction: pop\n",
            "Most Common ensemble_model Prediction: blues\n",
            "==================================================\n",
            "\n",
            "Audio File: 03. Stir It Up - Bob Marley & the Wailers.mp3\n",
            "--------------------------------------------------\n",
            "Most Common feature_model1 Prediction: reggae\n",
            "Most Common feature_model2 Prediction: reggae\n",
            "Most Common spectrogram_model1 Prediction: reggae\n",
            "Most Common spectrogram_model2 Prediction: reggae\n",
            "Most Common spectrogram_model3 Prediction: reggae\n",
            "Most Common ensemble_model Prediction: reggae\n",
            "==================================================\n",
            "\n",
            "Audio File: 02. Israelites - Desmond Dekker & the Aces.mp3\n",
            "--------------------------------------------------\n"
          ]
        },
        {
          "output_type": "stream",
          "name": "stderr",
          "text": [
            "<ipython-input-1-d50587726f11>:90: UserWarning: PySoundFile failed. Trying audioread instead.\n",
            "  audio_data, sr = librosa.load(audio_file)\n",
            "/usr/local/lib/python3.10/dist-packages/librosa/core/audio.py:183: FutureWarning: librosa.core.audio.__audioread_load\n",
            "\tDeprecated as of librosa version 0.10.0.\n",
            "\tIt will be removed in librosa version 1.0.\n",
            "  y, sr_native = __audioread_load(path, offset, duration, dtype)\n"
          ]
        },
        {
          "output_type": "stream",
          "name": "stdout",
          "text": [
            "Most Common feature_model1 Prediction: reggae\n",
            "Most Common feature_model2 Prediction: reggae\n",
            "Most Common spectrogram_model1 Prediction: reggae\n",
            "Most Common spectrogram_model2 Prediction: reggae\n",
            "Most Common spectrogram_model3 Prediction: reggae\n",
            "Most Common ensemble_model Prediction: reggae\n",
            "==================================================\n",
            "\n"
          ]
        }
      ],
      "source": [
        "folder_path = \"/content/drive/MyDrive/music genre classification/final/Final music audios/Reggae\"\n",
        "\n",
        "test_music_genre_folder(folder_path)"
      ]
    },
    {
      "cell_type": "markdown",
      "metadata": {
        "id": "RXgWzyk7QI0z"
      },
      "source": [
        "##Rock"
      ]
    },
    {
      "cell_type": "code",
      "execution_count": 7,
      "metadata": {
        "colab": {
          "base_uri": "https://localhost:8080/"
        },
        "id": "j8VIuOlSQJmC",
        "outputId": "91f05938-32ba-4154-800d-7405eece1065"
      },
      "outputs": [
        {
          "output_type": "stream",
          "name": "stdout",
          "text": [
            "Audio File: 007. Queen - Bohemian Rhapsody (2011 Mix).mp3\n",
            "--------------------------------------------------\n",
            "Most Common feature_model1 Prediction: country\n",
            "Most Common feature_model2 Prediction: country\n",
            "Most Common spectrogram_model1 Prediction: rock\n",
            "Most Common spectrogram_model2 Prediction: rock\n",
            "Most Common spectrogram_model3 Prediction: rock\n",
            "Most Common ensemble_model Prediction: rock\n",
            "==================================================\n",
            "\n",
            "Audio File: 001. Eagles - Hotel California (2013 Remaster).mp3\n",
            "--------------------------------------------------\n",
            "Most Common feature_model1 Prediction: rock\n",
            "Most Common feature_model2 Prediction: rock\n",
            "Most Common spectrogram_model1 Prediction: country\n",
            "Most Common spectrogram_model2 Prediction: country\n",
            "Most Common spectrogram_model3 Prediction: country\n",
            "Most Common ensemble_model Prediction: rock\n",
            "==================================================\n",
            "\n",
            "Audio File: 006. David Bowie - Changes (2015 Remaster).mp3\n",
            "--------------------------------------------------\n",
            "Most Common feature_model1 Prediction: disco\n",
            "Most Common feature_model2 Prediction: disco\n",
            "Most Common spectrogram_model1 Prediction: country\n",
            "Most Common spectrogram_model2 Prediction: country\n",
            "Most Common spectrogram_model3 Prediction: country\n",
            "Most Common ensemble_model Prediction: country\n",
            "==================================================\n",
            "\n",
            "Audio File: 002. Fleetwood Mac - Go Your Own Way (2004 Remaster).mp3\n",
            "--------------------------------------------------\n",
            "Most Common feature_model1 Prediction: pop\n",
            "Most Common feature_model2 Prediction: blues\n",
            "Most Common spectrogram_model1 Prediction: disco\n",
            "Most Common spectrogram_model2 Prediction: disco\n",
            "Most Common spectrogram_model3 Prediction: disco\n",
            "Most Common ensemble_model Prediction: disco\n",
            "==================================================\n",
            "\n",
            "Audio File: 004. The Rolling Stones - Brown Sugar (2009 Mix).mp3\n",
            "--------------------------------------------------\n",
            "Most Common feature_model1 Prediction: rock\n",
            "Most Common feature_model2 Prediction: blues\n",
            "Most Common spectrogram_model1 Prediction: rock\n",
            "Most Common spectrogram_model2 Prediction: rock\n",
            "Most Common spectrogram_model3 Prediction: rock\n",
            "Most Common ensemble_model Prediction: rock\n",
            "==================================================\n",
            "\n",
            "Audio File: 003. Bruce Springsteen - Born to Run.mp3\n",
            "--------------------------------------------------\n",
            "Most Common feature_model1 Prediction: blues\n",
            "Most Common feature_model2 Prediction: metal\n",
            "Most Common spectrogram_model1 Prediction: rock\n",
            "Most Common spectrogram_model2 Prediction: rock\n",
            "Most Common spectrogram_model3 Prediction: rock\n",
            "Most Common ensemble_model Prediction: rock\n",
            "==================================================\n",
            "\n",
            "Audio File: 005. The Beatles - Get Back (Remastered 2009).mp3\n",
            "--------------------------------------------------\n",
            "Most Common feature_model1 Prediction: rock\n",
            "Most Common feature_model2 Prediction: rock\n",
            "Most Common spectrogram_model1 Prediction: rock\n",
            "Most Common spectrogram_model2 Prediction: rock\n",
            "Most Common spectrogram_model3 Prediction: rock\n",
            "Most Common ensemble_model Prediction: rock\n",
            "==================================================\n",
            "\n"
          ]
        }
      ],
      "source": [
        "folder_path = \"/content/drive/MyDrive/music genre classification/final/Final music audios/Rock\"\n",
        "\n",
        "test_music_genre_folder(folder_path)"
      ]
    },
    {
      "cell_type": "code",
      "execution_count": null,
      "metadata": {
        "id": "qxcio1XkUPfs"
      },
      "outputs": [],
      "source": []
    },
    {
      "cell_type": "code",
      "source": [],
      "metadata": {
        "id": "svH7YDrmn3Po"
      },
      "execution_count": null,
      "outputs": []
    }
  ],
  "metadata": {
    "colab": {
      "provenance": []
    },
    "kernelspec": {
      "display_name": "Python 3",
      "name": "python3"
    },
    "language_info": {
      "name": "python"
    }
  },
  "nbformat": 4,
  "nbformat_minor": 0
}